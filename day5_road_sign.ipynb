{
  "nbformat": 4,
  "nbformat_minor": 0,
  "metadata": {
    "colab": {
      "name": "day5_road_sign.ipynb",
      "provenance": [],
      "mount_file_id": "1-zoHqy-7KhGcKbMcjHvKoLy-JNQKStcX",
      "authorship_tag": "ABX9TyPM0KfV11SXJfL1sq/Vg3v3",
      "include_colab_link": true
    },
    "kernelspec": {
      "name": "python3",
      "display_name": "Python 3"
    },
    "accelerator": "GPU"
  },
  "cells": [
    {
      "cell_type": "markdown",
      "metadata": {
        "id": "view-in-github",
        "colab_type": "text"
      },
      "source": [
        "<a href=\"https://colab.research.google.com/github/kzemla/dw_matrix_road_sigh/blob/master/day5_road_sign.ipynb\" target=\"_parent\"><img src=\"https://colab.research.google.com/assets/colab-badge.svg\" alt=\"Open In Colab\"/></a>"
      ]
    },
    {
      "cell_type": "code",
      "metadata": {
        "id": "ca-oxeLOyijv",
        "colab_type": "code",
        "colab": {
          "base_uri": "https://localhost:8080/",
          "height": 183
        },
        "outputId": "0d859f23-f727-472b-dc1c-6d9e9cc96b63"
      },
      "source": [
        "!pip install hyperopt"
      ],
      "execution_count": 45,
      "outputs": [
        {
          "output_type": "stream",
          "text": [
            "Requirement already satisfied: hyperopt in /usr/local/lib/python3.6/dist-packages (0.1.2)\n",
            "Requirement already satisfied: scipy in /usr/local/lib/python3.6/dist-packages (from hyperopt) (1.4.1)\n",
            "Requirement already satisfied: numpy in /usr/local/lib/python3.6/dist-packages (from hyperopt) (1.18.2)\n",
            "Requirement already satisfied: tqdm in /usr/local/lib/python3.6/dist-packages (from hyperopt) (4.38.0)\n",
            "Requirement already satisfied: pymongo in /usr/local/lib/python3.6/dist-packages (from hyperopt) (3.10.1)\n",
            "Requirement already satisfied: future in /usr/local/lib/python3.6/dist-packages (from hyperopt) (0.16.0)\n",
            "Requirement already satisfied: six in /usr/local/lib/python3.6/dist-packages (from hyperopt) (1.12.0)\n",
            "Requirement already satisfied: networkx in /usr/local/lib/python3.6/dist-packages (from hyperopt) (2.4)\n",
            "Requirement already satisfied: decorator>=4.3.0 in /usr/local/lib/python3.6/dist-packages (from networkx->hyperopt) (4.4.2)\n"
          ],
          "name": "stdout"
        }
      ]
    },
    {
      "cell_type": "code",
      "metadata": {
        "id": "JiSYCmS9y3VO",
        "colab_type": "code",
        "colab": {
          "base_uri": "https://localhost:8080/",
          "height": 50
        },
        "outputId": "5ec104fd-0e6d-4d3b-cf0f-d225ea0f7425"
      },
      "source": [
        "import pandas as pd\n",
        "import numpy as np\n",
        "\n",
        "import os\n",
        "import datetime\n",
        "\n",
        "import tensorflow as tf\n",
        "from tensorflow.keras.models import Sequential\n",
        "from tensorflow.keras.layers import Conv2D, MaxPool2D, Dense, Flatten, Dropout\n",
        "from tensorflow.keras.utils import to_categorical\n",
        "\n",
        "%load_ext tensorboard\n",
        "\n",
        "import matplotlib.pyplot as plt\n",
        "from skimage import color, exposure\n",
        "\n",
        "from sklearn.metrics import accuracy_score\n",
        "\n",
        "from hyperopt import hp, STATUS_OK, tpe, Trials, fmin"
      ],
      "execution_count": 46,
      "outputs": [
        {
          "output_type": "stream",
          "text": [
            "The tensorboard extension is already loaded. To reload it, use:\n",
            "  %reload_ext tensorboard\n"
          ],
          "name": "stdout"
        }
      ]
    },
    {
      "cell_type": "code",
      "metadata": {
        "id": "c-5KBFy5zGJU",
        "colab_type": "code",
        "colab": {
          "base_uri": "https://localhost:8080/",
          "height": 33
        },
        "outputId": "76507fc8-4ee2-4916-9de9-fb14bc5c2491"
      },
      "source": [
        "cd '/content/drive/My Drive/Colab Notebooks/matrix/matrix_three/dw_matrix_road_sigh'"
      ],
      "execution_count": 47,
      "outputs": [
        {
          "output_type": "stream",
          "text": [
            "/content/drive/My Drive/Colab Notebooks/matrix/matrix_three/dw_matrix_road_sigh\n"
          ],
          "name": "stdout"
        }
      ]
    },
    {
      "cell_type": "code",
      "metadata": {
        "id": "fCMfGabVzxu8",
        "colab_type": "code",
        "colab": {}
      },
      "source": [
        "train = pd.read_pickle('data/train.p')\n",
        "test = pd.read_pickle('data/test.p')\n",
        "\n",
        "X_train, y_train = train['features'], train['labels']\n",
        "X_test, y_test = test['features'], test['labels']"
      ],
      "execution_count": 0,
      "outputs": []
    },
    {
      "cell_type": "code",
      "metadata": {
        "id": "ycDHtQebz2-9",
        "colab_type": "code",
        "colab": {}
      },
      "source": [
        "if y_train.ndim == 1: y_train = to_categorical(y_train)\n",
        "if y_test.ndim == 1: y_test = to_categorical(y_test)\n",
        "\n",
        "input_shape = X_train.shape[1:]\n",
        "num_classes = y_train.shape[1]"
      ],
      "execution_count": 0,
      "outputs": []
    },
    {
      "cell_type": "code",
      "metadata": {
        "id": "aOgePRbHz-R-",
        "colab_type": "code",
        "colab": {}
      },
      "source": [
        "def train_model(model, X_train, y_train, params_fit={}):\n",
        "  model.compile(loss='categorical_crossentropy',optimizer='Adam', metrics=['accuracy'])\n",
        "\n",
        "\n",
        "\n",
        "  logdir = os.path.join(\"logs\", datetime.datetime.now().strftime(\"%Y%m%d-%H%M%S\"))\n",
        "  tensorboard_callback = tf.keras.callbacks.TensorBoard(logdir, histogram_freq=1)\n",
        "\n",
        "  model.fit(\n",
        "      X_train, \n",
        "      y_train,\n",
        "      batch_size=params_fit.get('batch_size', 128),\n",
        "      epochs=params_fit.get('epochs', 5),\n",
        "      verbose=params_fit.get('verbose', 1),\n",
        "      vaidation_data=params_fit.get('validation_data', (X_train, y_train)),\n",
        "      callbacks= [tensorboard_callback]\n",
        " \n",
        "  )\n",
        "\n",
        "  return model\n",
        "\n",
        "\n",
        "def predict(model_trained, X_test, y_test, scoring=accuracy_score ) :\n",
        "\n",
        "\n",
        "  y_test_norm = np.argmax(y_test, axis=1)\n",
        "\n",
        "  y_pred_prob = model_trained.predict(X_test)\n",
        "  y_pred = np.argmax(y_pred_prob, axis=1)\n",
        "\n",
        "  return scoring(y_test_norm, y_pred)"
      ],
      "execution_count": 0,
      "outputs": []
    },
    {
      "cell_type": "code",
      "metadata": {
        "id": "SGXIRRBZ7QNJ",
        "colab_type": "code",
        "colab": {}
      },
      "source": [
        "def get_cnn_v5(input_shape, num_classes):\n",
        "  return Sequential([\n",
        "   Conv2D(filters=32, kernel_size=(3,3), activation='relu', input_shape=input_shape),\n",
        "   Conv2D(filters=32, kernel_size=(3,3), activation='relu', padding='same'),\n",
        "   MaxPool2D(), \n",
        "   Dropout(0.3),\n",
        "\n",
        "   Conv2D(filters=64, kernel_size=(3,3), activation='relu', padding='same'), \n",
        "   Conv2D(filters=64, kernel_size=(3,3), activation='relu'), \n",
        "   MaxPool2D(), \n",
        "   Dropout(0.3),\n",
        "\n",
        "   Conv2D(filters=64, kernel_size=(3,3), activation='relu', padding='same'), \n",
        "   Conv2D(filters=64, kernel_size=(3,3), activation='relu'), \n",
        "   MaxPool2D(), \n",
        "   Dropout(0.3),\n",
        "\n",
        "\n",
        "   Flatten(),\n",
        "\n",
        "   Dense(1024, activation='relu'),\n",
        "   Dropout(0.3),\n",
        "   \n",
        "   Dense(1024, activation='relu'),\n",
        "   Dropout(0.3),\n",
        "\n",
        "\n",
        "   Dense(num_classes, activation='softmax'),\n",
        "   ])\n"
      ],
      "execution_count": 0,
      "outputs": []
    },
    {
      "cell_type": "code",
      "metadata": {
        "id": "6YHm2Fcd_SNV",
        "colab_type": "code",
        "colab": {
          "base_uri": "https://localhost:8080/",
          "height": 196
        },
        "outputId": "4a815e93-9c1a-4781-b290-d1e8b912beeb"
      },
      "source": [
        "model = get_cnn_v5(input_shape, num_classes)\n",
        "model_trained = train_model(model, X_train, y_train)\n",
        "predict(model_trained, X_test, y_test)"
      ],
      "execution_count": 52,
      "outputs": [
        {
          "output_type": "stream",
          "text": [
            "Epoch 1/5\n",
            "272/272 [==============================] - 3s 10ms/step - loss: 2.4553 - accuracy: 0.3250\n",
            "Epoch 2/5\n",
            "272/272 [==============================] - 3s 9ms/step - loss: 0.7442 - accuracy: 0.7674\n",
            "Epoch 3/5\n",
            "272/272 [==============================] - 3s 9ms/step - loss: 0.3624 - accuracy: 0.8870\n",
            "Epoch 4/5\n",
            "272/272 [==============================] - 3s 9ms/step - loss: 0.2404 - accuracy: 0.9281\n",
            "Epoch 5/5\n",
            "272/272 [==============================] - 3s 9ms/step - loss: 0.1913 - accuracy: 0.9426\n"
          ],
          "name": "stdout"
        },
        {
          "output_type": "execute_result",
          "data": {
            "text/plain": [
              "0.9575963718820861"
            ]
          },
          "metadata": {
            "tags": []
          },
          "execution_count": 52
        }
      ]
    },
    {
      "cell_type": "code",
      "metadata": {
        "id": "VCzeO7hvJCwp",
        "colab_type": "code",
        "colab": {
          "base_uri": "https://localhost:8080/",
          "height": 50
        },
        "outputId": "9f1dc3ce-76da-4aa6-e777-be2c1092047d"
      },
      "source": [
        "model_trained.evaluate(X_test, y_test)"
      ],
      "execution_count": 53,
      "outputs": [
        {
          "output_type": "stream",
          "text": [
            "138/138 [==============================] - 0s 3ms/step - loss: 0.2386 - accuracy: 0.9576\n"
          ],
          "name": "stdout"
        },
        {
          "output_type": "execute_result",
          "data": {
            "text/plain": [
              "[0.2385822832584381, 0.9575963616371155]"
            ]
          },
          "metadata": {
            "tags": []
          },
          "execution_count": 53
        }
      ]
    },
    {
      "cell_type": "code",
      "metadata": {
        "id": "eijZc6PHAaJZ",
        "colab_type": "code",
        "colab": {}
      },
      "source": [
        "def func_obj(params):\n",
        "\n",
        "  model = get_model(params)\n",
        "  model.compile(loss='categorical_crossentropy',optimizer='Adam', metrics=['accuracy'])\n",
        "\n",
        "  model.fit(\n",
        "      X_train, \n",
        "      y_train,\n",
        "      batch_size=int(params.get('batch_size', 128)),\n",
        "      epochs=7,\n",
        "      verbose=0\n",
        "      \n",
        " \n",
        "  )\n",
        "  score =  model.evaluate(X_test, y_test, verbose=0)\n",
        "  accuracy = score[1]\n",
        "  print(params, 'accuracy={}'.format(accuracy))\n",
        "\n",
        "  return {'loss': -accuracy, 'status': STATUS_OK, 'model': model }"
      ],
      "execution_count": 0,
      "outputs": []
    },
    {
      "cell_type": "code",
      "metadata": {
        "id": "8sFPsiztMenC",
        "colab_type": "code",
        "colab": {
          "base_uri": "https://localhost:8080/",
          "height": 1000
        },
        "outputId": "fad03daf-0a5c-490d-eac7-9283f0a3f181"
      },
      "source": [
        "space = {\n",
        "    'batch_size': hp.quniform('batch_size', 100, 200, 10),\n",
        "    'dropout_cnn_block_one': hp.uniform('dropout_cnn_block_one', 0.3, 0.5),\n",
        "    'dropout_cnn_block_two': hp.uniform('dropout_cnn_block_two', 0.3, 0.5),\n",
        "    'dropout_cnn_block_three': hp.uniform('dropout_cnn_block_three', 0.3, 0.5),\n",
        "\n",
        "    'dropout_dense_block_one': hp.uniform('dropout_dense_block_one', 0.3, 0.7),\n",
        "    'dropout_dense_block_two': hp.uniform('dropout_dense_block_two', 0.3, 0.7),\n",
        "    \n",
        "\n",
        "\n",
        "}\n",
        "\n",
        "best= fmin(\n",
        "    func_obj, \n",
        "    space,\n",
        "    tpe.suggest, \n",
        "    30,\n",
        "    Trials()\n",
        ")"
      ],
      "execution_count": 64,
      "outputs": [
        {
          "output_type": "stream",
          "text": [
            "{'batch_size': 170.0, 'dropout_cnn_block_one': 0.33209438978466926, 'dropout_cnn_block_three': 0.4816732506050308, 'dropout_cnn_block_two': 0.3395478372673721, 'dropout_dense_block_one': 0.39714334083499286, 'dropout_dense_block_two': 0.6694092004049654}\n",
            "accuracy=0.9700680375099182\n",
            "{'batch_size': 120.0, 'dropout_cnn_block_one': 0.3302381081879255, 'dropout_cnn_block_three': 0.43585465736476803, 'dropout_cnn_block_two': 0.45584281015959466, 'dropout_dense_block_one': 0.5480042015001774, 'dropout_dense_block_two': 0.35597297620959206}\n",
            "accuracy=0.9609977602958679\n",
            "{'batch_size': 110.0, 'dropout_cnn_block_one': 0.35079549137604815, 'dropout_cnn_block_three': 0.48996690513352625, 'dropout_cnn_block_two': 0.376783073205911, 'dropout_dense_block_one': 0.6019804332422757, 'dropout_dense_block_two': 0.6564008411580757}\n",
            "accuracy=0.9503401517868042\n",
            "{'batch_size': 170.0, 'dropout_cnn_block_one': 0.4559708598823353, 'dropout_cnn_block_three': 0.4910506402235433, 'dropout_cnn_block_two': 0.3986764353845549, 'dropout_dense_block_one': 0.47697472877188785, 'dropout_dense_block_two': 0.5079901197981322}\n",
            "accuracy=0.8244897723197937\n",
            "{'batch_size': 180.0, 'dropout_cnn_block_one': 0.39834565473520556, 'dropout_cnn_block_three': 0.4922553212872451, 'dropout_cnn_block_two': 0.4941957597674004, 'dropout_dense_block_one': 0.49371627292929965, 'dropout_dense_block_two': 0.5434565869362769}\n",
            "accuracy=0.8784580230712891\n",
            "{'batch_size': 170.0, 'dropout_cnn_block_one': 0.4703156235930668, 'dropout_cnn_block_three': 0.4889806212435593, 'dropout_cnn_block_two': 0.41831437619834877, 'dropout_dense_block_one': 0.5467766326073781, 'dropout_dense_block_two': 0.5715156484523839}\n",
            "accuracy=0.916553258895874\n",
            "{'batch_size': 170.0, 'dropout_cnn_block_one': 0.35489428532886047, 'dropout_cnn_block_three': 0.43420990907417567, 'dropout_cnn_block_two': 0.4649706468611054, 'dropout_dense_block_one': 0.4263908521338864, 'dropout_dense_block_two': 0.5509183957510888}\n",
            "accuracy=0.9043083786964417\n",
            "{'batch_size': 160.0, 'dropout_cnn_block_one': 0.4555446173015723, 'dropout_cnn_block_three': 0.49816067284394244, 'dropout_cnn_block_two': 0.3490924181846635, 'dropout_dense_block_one': 0.43306028120982065, 'dropout_dense_block_two': 0.5789476350355154}\n",
            "accuracy=0.9702947735786438\n",
            "{'batch_size': 130.0, 'dropout_cnn_block_one': 0.48837824652677264, 'dropout_cnn_block_three': 0.33343462973149623, 'dropout_cnn_block_two': 0.416822206947471, 'dropout_dense_block_one': 0.3106508614760149, 'dropout_dense_block_two': 0.3623930067423299}\n",
            "accuracy=0.9607709646224976\n",
            "{'batch_size': 130.0, 'dropout_cnn_block_one': 0.4497698342332358, 'dropout_cnn_block_three': 0.3634763727341461, 'dropout_cnn_block_two': 0.4039444944661757, 'dropout_dense_block_one': 0.4662668837314465, 'dropout_dense_block_two': 0.647807516836111}\n",
            "accuracy=0.9664399027824402\n",
            "{'batch_size': 110.0, 'dropout_cnn_block_one': 0.42820450618975525, 'dropout_cnn_block_three': 0.4423324021341126, 'dropout_cnn_block_two': 0.4652365311225923, 'dropout_dense_block_one': 0.44883834836246483, 'dropout_dense_block_two': 0.5979328309961982}\n",
            "accuracy=0.9535147547721863\n",
            "{'batch_size': 140.0, 'dropout_cnn_block_one': 0.3960362307248869, 'dropout_cnn_block_three': 0.3150749910314335, 'dropout_cnn_block_two': 0.41172982511480044, 'dropout_dense_block_one': 0.5008641144707046, 'dropout_dense_block_two': 0.3280443820631833}\n",
            "accuracy=0.9777777791023254\n",
            "{'batch_size': 130.0, 'dropout_cnn_block_one': 0.40305920260851646, 'dropout_cnn_block_three': 0.48625228891011796, 'dropout_cnn_block_two': 0.4034779625780906, 'dropout_dense_block_one': 0.6470842901639676, 'dropout_dense_block_two': 0.48192311135023824}\n",
            "accuracy=0.938548743724823\n",
            "{'batch_size': 190.0, 'dropout_cnn_block_one': 0.4457850283242184, 'dropout_cnn_block_three': 0.4154991837159643, 'dropout_cnn_block_two': 0.43213998469549036, 'dropout_dense_block_one': 0.36818692673360576, 'dropout_dense_block_two': 0.49876904798377414}\n",
            "accuracy=0.9476190209388733\n",
            "{'batch_size': 110.0, 'dropout_cnn_block_one': 0.49625202683816155, 'dropout_cnn_block_three': 0.4754380755722126, 'dropout_cnn_block_two': 0.36485126341088514, 'dropout_dense_block_one': 0.46407571242242707, 'dropout_dense_block_two': 0.6503735884628072}\n",
            "accuracy=0.900907039642334\n",
            "{'batch_size': 170.0, 'dropout_cnn_block_one': 0.48944501140912283, 'dropout_cnn_block_three': 0.4620497189207809, 'dropout_cnn_block_two': 0.3369343771620516, 'dropout_dense_block_one': 0.3846112149791243, 'dropout_dense_block_two': 0.34584308483358633}\n",
            "accuracy=0.9160997867584229\n",
            "{'batch_size': 110.0, 'dropout_cnn_block_one': 0.41403899687004203, 'dropout_cnn_block_three': 0.46686519343416266, 'dropout_cnn_block_two': 0.36628985793717883, 'dropout_dense_block_one': 0.36708371237582155, 'dropout_dense_block_two': 0.30783506498994023}\n",
            "accuracy=0.9732426404953003\n",
            "{'batch_size': 130.0, 'dropout_cnn_block_one': 0.4707845821484853, 'dropout_cnn_block_three': 0.32725484731172577, 'dropout_cnn_block_two': 0.31592166683939077, 'dropout_dense_block_one': 0.4038262579302514, 'dropout_dense_block_two': 0.6167735808441867}\n",
            "accuracy=0.9702947735786438\n",
            "{'batch_size': 110.0, 'dropout_cnn_block_one': 0.3081978164939564, 'dropout_cnn_block_three': 0.3121638142870648, 'dropout_cnn_block_two': 0.463420211520041, 'dropout_dense_block_one': 0.5360985879270271, 'dropout_dense_block_two': 0.6790333161748974}\n",
            "accuracy=0.9727891087532043\n",
            "{'batch_size': 150.0, 'dropout_cnn_block_one': 0.44669946851881237, 'dropout_cnn_block_three': 0.4651878545842098, 'dropout_cnn_block_two': 0.37032618957063035, 'dropout_dense_block_one': 0.6427439549122604, 'dropout_dense_block_two': 0.5039327586301623}\n",
            "accuracy=0.9219954609870911\n",
            "{'batch_size': 150.0, 'dropout_cnn_block_one': 0.3883275151788441, 'dropout_cnn_block_three': 0.37845435566375263, 'dropout_cnn_block_two': 0.3113904485471219, 'dropout_dense_block_one': 0.33171558895922304, 'dropout_dense_block_two': 0.3083512111822725}\n",
            "accuracy=0.963718831539154\n",
            "{'batch_size': 140.0, 'dropout_cnn_block_one': 0.3757690781061403, 'dropout_cnn_block_three': 0.38399470342621667, 'dropout_cnn_block_two': 0.3877421879745581, 'dropout_dense_block_one': 0.59163494327581, 'dropout_dense_block_two': 0.4373527183858321}\n",
            "accuracy=0.9777777791023254\n",
            "{'batch_size': 140.0, 'dropout_cnn_block_one': 0.3757549049278528, 'dropout_cnn_block_three': 0.3594859611016099, 'dropout_cnn_block_two': 0.43700872822294606, 'dropout_dense_block_one': 0.6034828787069357, 'dropout_dense_block_two': 0.4178128325564287}\n",
            "accuracy=0.9671201705932617\n",
            "{'batch_size': 140.0, 'dropout_cnn_block_one': 0.37303721957374936, 'dropout_cnn_block_three': 0.38965381607158706, 'dropout_cnn_block_two': 0.3862651723957018, 'dropout_dense_block_one': 0.6876592789814585, 'dropout_dense_block_two': 0.4106810638369087}\n",
            "accuracy=0.9646258354187012\n",
            "{'batch_size': 140.0, 'dropout_cnn_block_one': 0.41920175142726, 'dropout_cnn_block_three': 0.30593050522731935, 'dropout_cnn_block_two': 0.443284309911669, 'dropout_dense_block_one': 0.5857872352875182, 'dropout_dense_block_two': 0.43889264117769594}\n",
            "accuracy=0.9444444179534912\n",
            "{'batch_size': 160.0, 'dropout_cnn_block_one': 0.366850009899865, 'dropout_cnn_block_three': 0.3453447698009358, 'dropout_cnn_block_two': 0.4986216929913235, 'dropout_dense_block_one': 0.5252227782569523, 'dropout_dense_block_two': 0.4543521283184819}\n",
            "accuracy=0.9705215692520142\n",
            "{'batch_size': 120.0, 'dropout_cnn_block_one': 0.3331299828954507, 'dropout_cnn_block_three': 0.3967764320030692, 'dropout_cnn_block_two': 0.38702227380361476, 'dropout_dense_block_one': 0.6939737744648531, 'dropout_dense_block_two': 0.3959365484999635}\n",
            "accuracy=0.9782313108444214\n",
            "{'batch_size': 100.0, 'dropout_cnn_block_one': 0.30052696984959204, 'dropout_cnn_block_three': 0.4038326347371983, 'dropout_cnn_block_two': 0.3885157122859061, 'dropout_dense_block_one': 0.6997598595774812, 'dropout_dense_block_two': 0.3905508618342137}\n",
            "accuracy=0.9682539701461792\n",
            "{'batch_size': 120.0, 'dropout_cnn_block_one': 0.3262780348458221, 'dropout_cnn_block_three': 0.41722918769568196, 'dropout_cnn_block_two': 0.34742005119315805, 'dropout_dense_block_one': 0.6586937240666618, 'dropout_dense_block_two': 0.38590133626214573}\n",
            "accuracy=0.9721088409423828\n",
            "{'batch_size': 120.0, 'dropout_cnn_block_one': 0.31520436520932094, 'dropout_cnn_block_three': 0.38175608724198257, 'dropout_cnn_block_two': 0.33798508009617256, 'dropout_dense_block_one': 0.6764657599633475, 'dropout_dense_block_two': 0.4634481054417272}\n",
            "accuracy=0.9598639607429504\n",
            "100%|██████████| 30/30 [07:31<00:00, 15.06s/it, best loss: -0.9782313108444214]\n"
          ],
          "name": "stdout"
        }
      ]
    },
    {
      "cell_type": "code",
      "metadata": {
        "id": "73oYWzrOOdPI",
        "colab_type": "code",
        "colab": {}
      },
      "source": [
        "def get_model(params):\n",
        "  return Sequential([\n",
        "   Conv2D(filters=32, kernel_size=(3,3), activation='relu', input_shape=input_shape),\n",
        "   Conv2D(filters=32, kernel_size=(3,3), activation='relu', padding='same'),\n",
        "   MaxPool2D(), \n",
        "   Dropout(params['dropout_cnn_block_one']),\n",
        "\n",
        "   Conv2D(filters=64, kernel_size=(3,3), activation='relu', padding='same'), \n",
        "   Conv2D(filters=64, kernel_size=(3,3), activation='relu'), \n",
        "   MaxPool2D(), \n",
        "   Dropout(params['dropout_cnn_block_two']),\n",
        "\n",
        "\n",
        "   Conv2D(filters=128, kernel_size=(3,3), activation='relu', padding='same'), \n",
        "   Conv2D(filters=128, kernel_size=(3,3), activation='relu'), \n",
        "   MaxPool2D(), \n",
        "   Dropout(params['dropout_cnn_block_three']),\n",
        "\n",
        "\n",
        "   Flatten(),\n",
        "\n",
        "   Dense(1024, activation='relu'),\n",
        "   Dropout(params['dropout_dense_block_one']),\n",
        "\n",
        "   \n",
        "   Dense(1024, activation='relu'),\n",
        "   Dropout(params['dropout_cnn_block_two']),\n",
        "\n",
        "\n",
        "\n",
        "   Dense(num_classes, activation='softmax'),\n",
        "   ])\n"
      ],
      "execution_count": 0,
      "outputs": []
    },
    {
      "cell_type": "code",
      "metadata": {
        "id": "9DTa4167YmLo",
        "colab_type": "code",
        "colab": {}
      },
      "source": [
        "def get_cnn_v5(input_shape, num_classes):\n",
        "  return Sequential([\n",
        "   Conv2D(filters=32, kernel_size=(3,3), activation='relu', input_shape=input_shape),\n",
        "   Conv2D(filters=32, kernel_size=(3,3), activation='relu', padding='same'),\n",
        "   Conv2D(filters=32, kernel_size=(3,3), activation='relu', padding='same'),\n",
        "   MaxPool2D(), \n",
        "   Dropout(0.3),\n",
        "\n",
        "   Conv2D(filters=64, kernel_size=(3,3), activation='relu', padding='same'), \n",
        "   Conv2D(filters=64, kernel_size=(3,3), activation='relu', padding='same'),\n",
        "   Conv2D(filters=64, kernel_size=(3,3), activation='relu'), \n",
        "   MaxPool2D(), \n",
        "   Dropout(0.3),\n",
        "\n",
        "   Conv2D(filters=128, kernel_size=(3,3), activation='relu', padding='same'), \n",
        "   Conv2D(filters=128, kernel_size=(3,3), activation='relu', padding='same'), \n",
        "   Conv2D(filters=128, kernel_size=(3,3), activation='relu'), \n",
        "   MaxPool2D(), \n",
        "   Dropout(0.3),\n",
        "\n",
        "\n",
        "   Flatten(),\n",
        "\n",
        "   Dense(1024, activation='relu'),\n",
        "   Dropout(0.3),\n",
        "   \n",
        "   Dense(1024, activation='relu'),\n",
        "   Dropout(0.3),\n",
        "\n",
        "\n",
        "   Dense(num_classes, activation='softmax'),\n",
        "   ])\n"
      ],
      "execution_count": 0,
      "outputs": []
    },
    {
      "cell_type": "code",
      "metadata": {
        "id": "j6dbB5WmktCp",
        "colab_type": "code",
        "colab": {
          "base_uri": "https://localhost:8080/",
          "height": 232
        },
        "outputId": "83fcba14-136b-49c5-8d65-0b96deec7bff"
      },
      "source": [
        "model = get_cnn_v5(input_shape, num_classes)\n",
        "model_trained = train_model(model, X_train, y_train)\n",
        "predict(model_trained, X_test, y_test)"
      ],
      "execution_count": 66,
      "outputs": [
        {
          "output_type": "stream",
          "text": [
            "Epoch 1/5\n",
            "  2/272 [..............................] - ETA: 7:17 - loss: 5.2614 - accuracy: 0.0312WARNING:tensorflow:Method (on_train_batch_end) is slow compared to the batch update (1.612317). Check your callbacks.\n",
            "272/272 [==============================] - 7s 25ms/step - loss: 2.2910 - accuracy: 0.3423\n",
            "Epoch 2/5\n",
            "272/272 [==============================] - 4s 13ms/step - loss: 0.5339 - accuracy: 0.8292\n",
            "Epoch 3/5\n",
            "272/272 [==============================] - 4s 13ms/step - loss: 0.2307 - accuracy: 0.9299\n",
            "Epoch 4/5\n",
            "272/272 [==============================] - 4s 13ms/step - loss: 0.1625 - accuracy: 0.9537\n",
            "Epoch 5/5\n",
            "272/272 [==============================] - 4s 13ms/step - loss: 0.1209 - accuracy: 0.9659\n"
          ],
          "name": "stdout"
        },
        {
          "output_type": "execute_result",
          "data": {
            "text/plain": [
              "0.9705215419501134"
            ]
          },
          "metadata": {
            "tags": []
          },
          "execution_count": 66
        }
      ]
    },
    {
      "cell_type": "code",
      "metadata": {
        "id": "3G91wCyZlRXt",
        "colab_type": "code",
        "colab": {}
      },
      "source": [
        ""
      ],
      "execution_count": 0,
      "outputs": []
    },
    {
      "cell_type": "markdown",
      "metadata": {
        "id": "MHSOgKk-lRHu",
        "colab_type": "text"
      },
      "source": [
        ""
      ]
    },
    {
      "cell_type": "markdown",
      "metadata": {
        "id": "JZ-avXDplQit",
        "colab_type": "text"
      },
      "source": [
        ""
      ]
    }
  ]
}