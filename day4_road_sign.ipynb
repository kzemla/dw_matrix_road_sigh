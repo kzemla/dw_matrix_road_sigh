{
  "nbformat": 4,
  "nbformat_minor": 0,
  "metadata": {
    "colab": {
      "name": "day4_road_sign.ipynb",
      "provenance": [],
      "mount_file_id": "126vbi-D74AaHxv0nsOqy3FXBW_jyx1-Q",
      "authorship_tag": "ABX9TyPMjIeOWTeDtGnlyU5O1zQv",
      "include_colab_link": true
    },
    "kernelspec": {
      "name": "python3",
      "display_name": "Python 3"
    },
    "accelerator": "GPU"
  },
  "cells": [
    {
      "cell_type": "markdown",
      "metadata": {
        "id": "view-in-github",
        "colab_type": "text"
      },
      "source": [
        "<a href=\"https://colab.research.google.com/github/kzemla/dw_matrix_road_sigh/blob/master/day4_road_sign.ipynb\" target=\"_parent\"><img src=\"https://colab.research.google.com/assets/colab-badge.svg\" alt=\"Open In Colab\"/></a>"
      ]
    },
    {
      "cell_type": "code",
      "metadata": {
        "id": "ooh6MfL9nxNw",
        "colab_type": "code",
        "colab": {
          "base_uri": "https://localhost:8080/",
          "height": 52
        },
        "outputId": "4b61a8e3-e31e-4faf-a037-721f028680bc"
      },
      "source": [
        "import pandas as pd\n",
        "import numpy as np\n",
        "\n",
        "import os\n",
        "import datetime\n",
        "\n",
        "import tensorflow as tf\n",
        "from tensorflow.keras.models import Sequential\n",
        "from tensorflow.keras.layers import Conv2D, MaxPool2D, Dense, Flatten, Dropout\n",
        "from tensorflow.keras.utils import to_categorical\n",
        "\n",
        "%load_ext tensorboard\n",
        "\n",
        "import matplotlib.pyplot as plt\n",
        "from skimage import color, exposure\n",
        "\n",
        "from sklearn.metrics import accuracy_score"
      ],
      "execution_count": 21,
      "outputs": [
        {
          "output_type": "stream",
          "text": [
            "The tensorboard extension is already loaded. To reload it, use:\n",
            "  %reload_ext tensorboard\n"
          ],
          "name": "stdout"
        }
      ]
    },
    {
      "cell_type": "code",
      "metadata": {
        "id": "t5kaMwVJoKKr",
        "colab_type": "code",
        "colab": {
          "base_uri": "https://localhost:8080/",
          "height": 34
        },
        "outputId": "98d824e1-cc7b-45c5-c173-7e9ec3d43a36"
      },
      "source": [
        "cd '/content/drive/My Drive/Colab Notebooks/matrix/matrix_three/dw_matrix_road_sigh'"
      ],
      "execution_count": 2,
      "outputs": [
        {
          "output_type": "stream",
          "text": [
            "/content/drive/My Drive/Colab Notebooks/matrix/matrix_three/dw_matrix_road_sigh\n"
          ],
          "name": "stdout"
        }
      ]
    },
    {
      "cell_type": "code",
      "metadata": {
        "id": "tn4g9KcQoQN9",
        "colab_type": "code",
        "colab": {}
      },
      "source": [
        "train = pd.read_pickle('data/train.p')\n",
        "test = pd.read_pickle('data/test.p')\n",
        "\n",
        "X_train, y_train = train['features'], train['labels']\n",
        "X_test, y_test = test['features'], test['labels']\n"
      ],
      "execution_count": 0,
      "outputs": []
    },
    {
      "cell_type": "code",
      "metadata": {
        "id": "npo00S6Joa-9",
        "colab_type": "code",
        "colab": {}
      },
      "source": [
        "if y_train.ndim == 1: y_train = to_categorical(y_train)\n",
        "if y_test.ndim == 1: y_test = to_categorical(y_test)"
      ],
      "execution_count": 0,
      "outputs": []
    },
    {
      "cell_type": "code",
      "metadata": {
        "id": "3M_zr3-ZoxPv",
        "colab_type": "code",
        "colab": {}
      },
      "source": [
        "input_shape = X_train.shape[1:]\n",
        "num_classes = y_train.shape[1]"
      ],
      "execution_count": 0,
      "outputs": []
    },
    {
      "cell_type": "code",
      "metadata": {
        "id": "dB5-JT2Go2CT",
        "colab_type": "code",
        "colab": {
          "base_uri": "https://localhost:8080/",
          "height": 52
        },
        "outputId": "a2c1d508-06ea-4676-d891-83f684fa67a7"
      },
      "source": [
        "model = Sequential([\n",
        "   Conv2D(filters=64, kernel_size=(3,3), activation='relu', input_shape=input_shape), \n",
        "\n",
        "   Flatten(),\n",
        "\n",
        "   Dense(num_classes, activation='softmax'),\n",
        "\n",
        "])\n",
        "\n",
        "#model.summary()\n",
        "\n",
        "model.compile(loss='categorical_crossentropy',optimizer='Adam', metrics=['accuracy'])\n",
        "model.fit(X_train, y_train)"
      ],
      "execution_count": 6,
      "outputs": [
        {
          "output_type": "stream",
          "text": [
            "1088/1088 [==============================] - 4s 3ms/step - loss: 8.3999 - accuracy: 0.7922\n"
          ],
          "name": "stdout"
        },
        {
          "output_type": "execute_result",
          "data": {
            "text/plain": [
              "<tensorflow.python.keras.callbacks.History at 0x7f6ac02feba8>"
            ]
          },
          "metadata": {
            "tags": []
          },
          "execution_count": 6
        }
      ]
    },
    {
      "cell_type": "code",
      "metadata": {
        "id": "JerxGnC0o6t-",
        "colab_type": "code",
        "colab": {}
      },
      "source": [
        "def get_cnn_v1(input_shape, num_classes):\n",
        "  return Sequential([\n",
        "   Conv2D(filters=64, kernel_size=(3,3), activation='relu', input_shape=input_shape), \n",
        "\n",
        "   Flatten(),\n",
        "\n",
        "   Dense(num_classes, activation='softmax'),\n",
        "   ])\n",
        "  \n",
        "def train_model(model, X_train, y_train, params_fit={}):\n",
        "  model.compile(loss='categorical_crossentropy',optimizer='Adam', metrics=['accuracy'])\n",
        "\n",
        "\n",
        "\n",
        "  logdir = os.path.join(\"logs\", datetime.datetime.now().strftime(\"%Y%m%d-%H%M%S\"))\n",
        "  tensorboard_callback = tf.keras.callbacks.TensorBoard(logdir, histogram_freq=1)\n",
        "\n",
        "  model.fit(\n",
        "      X_train, \n",
        "      y_train,\n",
        "      batch_size=params_fit.get('batch_size', 128),\n",
        "      epochs=params_fit.get('epochs', 5),\n",
        "      verbose=params_fit.get('verbose', 1),\n",
        "      vaidation_data=params_fit.get('validation_data', (X_train, y_train)),\n",
        "      callbacks= [tensorboard_callback]\n",
        " \n",
        "  )\n",
        "\n",
        "  return model"
      ],
      "execution_count": 0,
      "outputs": []
    },
    {
      "cell_type": "code",
      "metadata": {
        "id": "BRQM0-vjpJkD",
        "colab_type": "code",
        "colab": {
          "base_uri": "https://localhost:8080/",
          "height": 190
        },
        "outputId": "877017ec-9419-4a03-fc45-c6e92017e20d"
      },
      "source": [
        "model = get_cnn_v1(input_shape, num_classes)\n",
        "model_trained =train_model(model, X_train, y_train)"
      ],
      "execution_count": 11,
      "outputs": [
        {
          "output_type": "stream",
          "text": [
            "Epoch 1/5\n",
            "272/272 [==============================] - 2s 7ms/step - loss: 22.3081 - accuracy: 0.7168\n",
            "Epoch 2/5\n",
            "272/272 [==============================] - 2s 7ms/step - loss: 0.2072 - accuracy: 0.9545\n",
            "Epoch 3/5\n",
            "272/272 [==============================] - 2s 7ms/step - loss: 0.1243 - accuracy: 0.9713\n",
            "Epoch 4/5\n",
            "272/272 [==============================] - 2s 7ms/step - loss: 0.1014 - accuracy: 0.9766\n",
            "Epoch 5/5\n",
            "272/272 [==============================] - 2s 7ms/step - loss: 0.0824 - accuracy: 0.9803\n"
          ],
          "name": "stdout"
        }
      ]
    },
    {
      "cell_type": "code",
      "metadata": {
        "id": "Z_rfqctppQfv",
        "colab_type": "code",
        "colab": {}
      },
      "source": [
        "def predict(model_trained, X_test, y_test, scoring=accuracy_score ) :\n",
        "\n",
        "\n",
        "  y_test_norm = np.argmax(y_test, axis=1)\n",
        "\n",
        "  y_pred_prob = model_trained.predict(X_test)\n",
        "  y_pred = np.argmax(y_pred_prob, axis=1)\n",
        "\n",
        "  return scoring(y_test_norm, y_pred)\n",
        "\n"
      ],
      "execution_count": 0,
      "outputs": []
    },
    {
      "cell_type": "code",
      "metadata": {
        "id": "qLB2-xad4EpD",
        "colab_type": "code",
        "colab": {}
      },
      "source": [
        "def train_and_predict(model):\n",
        "  \n",
        "  model_trained =train_model(model, X_train, y_train)\n",
        "  return predict(model_trained, X_test, y_test)\n"
      ],
      "execution_count": 0,
      "outputs": []
    },
    {
      "cell_type": "code",
      "metadata": {
        "id": "QJlBM7FfyIDJ",
        "colab_type": "code",
        "colab": {
          "base_uri": "https://localhost:8080/",
          "height": 208
        },
        "outputId": "19463df5-ec53-4a7b-c958-5d6fc6803541"
      },
      "source": [
        "def get_cnn_v2(input_shape, num_classes):\n",
        "  return Sequential([\n",
        "   Conv2D(filters=32, kernel_size=(3,3), activation='relu', input_shape=input_shape),\n",
        "   MaxPool2D(), \n",
        "   Dropout(0.3),\n",
        "\n",
        "   Conv2D(filters=64, kernel_size=(3,3), activation='relu'), \n",
        "   MaxPool2D(), \n",
        "   Dropout(0.3),\n",
        "\n",
        "\n",
        "   Flatten(),\n",
        "\n",
        "   Dense(1024, activation='relu'),\n",
        "   Dropout(0.3),\n",
        "\n",
        "   Dense(num_classes, activation='softmax'),\n",
        "   ])\n",
        "\n",
        "\n",
        "\n",
        "train_and_predict(get_cnn_v2(input_shape, num_classes))"
      ],
      "execution_count": 28,
      "outputs": [
        {
          "output_type": "stream",
          "text": [
            "Epoch 1/5\n",
            "272/272 [==============================] - 2s 8ms/step - loss: 6.0678 - accuracy: 0.2367\n",
            "Epoch 2/5\n",
            "272/272 [==============================] - 2s 7ms/step - loss: 1.5281 - accuracy: 0.5424\n",
            "Epoch 3/5\n",
            "272/272 [==============================] - 2s 7ms/step - loss: 0.8775 - accuracy: 0.7308\n",
            "Epoch 4/5\n",
            "272/272 [==============================] - 2s 7ms/step - loss: 0.5314 - accuracy: 0.8376\n",
            "Epoch 5/5\n",
            "272/272 [==============================] - 2s 7ms/step - loss: 0.3714 - accuracy: 0.8854\n"
          ],
          "name": "stdout"
        },
        {
          "output_type": "execute_result",
          "data": {
            "text/plain": [
              "0.8791383219954648"
            ]
          },
          "metadata": {
            "tags": []
          },
          "execution_count": 28
        }
      ]
    },
    {
      "cell_type": "code",
      "metadata": {
        "id": "p4iwapTyyIYQ",
        "colab_type": "code",
        "colab": {}
      },
      "source": [
        ""
      ],
      "execution_count": 0,
      "outputs": []
    },
    {
      "cell_type": "code",
      "metadata": {
        "id": "7Ky-Qc_lyIhR",
        "colab_type": "code",
        "colab": {}
      },
      "source": [
        ""
      ],
      "execution_count": 0,
      "outputs": []
    },
    {
      "cell_type": "code",
      "metadata": {
        "id": "eE0xfSI1yIq_",
        "colab_type": "code",
        "colab": {}
      },
      "source": [
        ""
      ],
      "execution_count": 0,
      "outputs": []
    },
    {
      "cell_type": "code",
      "metadata": {
        "id": "GcY8EPKgrQKs",
        "colab_type": "code",
        "colab": {
          "base_uri": "https://localhost:8080/",
          "height": 208
        },
        "outputId": "a4778c0b-ab8d-41e0-9299-cddf6bea9f16"
      },
      "source": [
        "y_pred_prob[400]"
      ],
      "execution_count": 17,
      "outputs": [
        {
          "output_type": "execute_result",
          "data": {
            "text/plain": [
              "array([2.9031937e-05, 3.8667466e-05, 2.5362931e-14, 4.2088542e-18,\n",
              "       9.9993229e-01, 9.3815489e-09, 1.4255159e-25, 1.6312240e-16,\n",
              "       3.9426641e-17, 2.7063994e-20, 2.6440257e-22, 4.3262309e-21,\n",
              "       5.2163011e-21, 1.0156249e-22, 9.0186231e-31, 2.0764817e-24,\n",
              "       1.8829149e-15, 1.9132981e-28, 1.9810837e-23, 1.1207260e-37,\n",
              "       3.7113746e-30, 4.3915292e-35, 2.7467526e-29, 1.9522651e-26,\n",
              "       3.7030829e-25, 6.7490575e-28, 2.2558345e-29, 2.6677894e-33,\n",
              "       6.1388999e-21, 4.8199975e-31, 2.9426245e-28, 1.1125691e-29,\n",
              "       4.4608548e-28, 1.1991769e-27, 7.2454198e-32, 1.2402946e-21,\n",
              "       1.2461460e-30, 4.9115514e-19, 5.2612117e-26, 1.9905456e-30,\n",
              "       6.8124702e-24, 2.7916489e-28, 2.8474910e-28], dtype=float32)"
            ]
          },
          "metadata": {
            "tags": []
          },
          "execution_count": 17
        }
      ]
    },
    {
      "cell_type": "code",
      "metadata": {
        "id": "TrAfsUGHq4jx",
        "colab_type": "code",
        "colab": {
          "base_uri": "https://localhost:8080/",
          "height": 284
        },
        "outputId": "2cf1dd53-2e26-4b30-93f2-fe35c87b5bdf"
      },
      "source": [
        "plt.imshow(X_test[400])"
      ],
      "execution_count": 16,
      "outputs": [
        {
          "output_type": "execute_result",
          "data": {
            "text/plain": [
              "<matplotlib.image.AxesImage at 0x7f6aa40e2080>"
            ]
          },
          "metadata": {
            "tags": []
          },
          "execution_count": 16
        },
        {
          "output_type": "display_data",
          "data": {
            "image/png": "[encoded data removed]",
            "text/plain": [
              "<Figure size 432x288 with 1 Axes>"
            ]
          },
          "metadata": {
            "tags": []
          }
        }
      ]
    },
    {
      "cell_type": "code",
      "metadata": {
        "id": "yzyq_e5RrAA-",
        "colab_type": "code",
        "colab": {}
      },
      "source": [
        "df = pd.read_csv('data/signnames.csv')\n",
        "labels_dict = df.to_dict()['b']"
      ],
      "execution_count": 0,
      "outputs": []
    },
    {
      "cell_type": "code",
      "metadata": {
        "id": "EgJhlWWhsPTZ",
        "colab_type": "code",
        "colab": {
          "base_uri": "https://localhost:8080/",
          "height": 34
        },
        "outputId": "7e0b7472-ad51-4776-8a2b-cb84ef82809f"
      },
      "source": [
        "labels_dict[ np.argmax( y_pred_prob[400])]"
      ],
      "execution_count": 20,
      "outputs": [
        {
          "output_type": "execute_result",
          "data": {
            "text/plain": [
              "'Speed limit (70km/h)'"
            ]
          },
          "metadata": {
            "tags": []
          },
          "execution_count": 20
        }
      ]
    },
    {
      "cell_type": "code",
      "metadata": {
        "id": "UPJNP9_Ctq_b",
        "colab_type": "code",
        "colab": {
          "base_uri": "https://localhost:8080/",
          "height": 208
        },
        "outputId": "830787aa-d812-4716-c235-a3110f18b280"
      },
      "source": [
        "def get_cnn_v3(input_shape, num_classes):\n",
        "  return Sequential([\n",
        "   Conv2D(filters=32, kernel_size=(3,3), activation='relu', input_shape=input_shape),\n",
        "   Conv2D(filters=32, kernel_size=(3,3), activation='relu'),\n",
        "   MaxPool2D(), \n",
        "   Dropout(0.3),\n",
        "\n",
        "   Conv2D(filters=64, kernel_size=(3,3), activation='relu'), \n",
        "   Conv2D(filters=64, kernel_size=(3,3), activation='relu'), \n",
        "   MaxPool2D(), \n",
        "   Dropout(0.3),\n",
        "\n",
        "\n",
        "   Flatten(),\n",
        "\n",
        "   Dense(1024, activation='relu'),\n",
        "   Dropout(0.3),\n",
        "\n",
        "   Dense(num_classes, activation='softmax'),\n",
        "   ])\n",
        "\n",
        "\n",
        "\n",
        "train_and_predict(get_cnn_v3(input_shape, num_classes))"
      ],
      "execution_count": 29,
      "outputs": [
        {
          "output_type": "stream",
          "text": [
            "Epoch 1/5\n",
            "272/272 [==============================] - 3s 11ms/step - loss: 2.5697 - accuracy: 0.5223\n",
            "Epoch 2/5\n",
            "272/272 [==============================] - 3s 10ms/step - loss: 0.5248 - accuracy: 0.8497\n",
            "Epoch 3/5\n",
            "272/272 [==============================] - 3s 10ms/step - loss: 0.3017 - accuracy: 0.9109\n",
            "Epoch 4/5\n",
            "272/272 [==============================] - 3s 10ms/step - loss: 0.2105 - accuracy: 0.9405\n",
            "Epoch 5/5\n",
            "272/272 [==============================] - 3s 10ms/step - loss: 0.1522 - accuracy: 0.9551\n"
          ],
          "name": "stdout"
        },
        {
          "output_type": "execute_result",
          "data": {
            "text/plain": [
              "0.9691609977324263"
            ]
          },
          "metadata": {
            "tags": []
          },
          "execution_count": 29
        }
      ]
    },
    {
      "cell_type": "code",
      "metadata": {
        "id": "lLekcjvj8xze",
        "colab_type": "code",
        "colab": {
          "base_uri": "https://localhost:8080/",
          "height": 208
        },
        "outputId": "f5874c45-a72f-424b-82ae-1ed2beb7145b"
      },
      "source": [
        "def get_cnn_v4(input_shape, num_classes):\n",
        "  return Sequential([\n",
        "   Conv2D(filters=32, kernel_size=(3,3), activation='relu', input_shape=input_shape),\n",
        "   Conv2D(filters=32, kernel_size=(3,3), activation='relu', padding='same'),\n",
        "   MaxPool2D(), \n",
        "   Dropout(0.3),\n",
        "\n",
        "   Conv2D(filters=64, kernel_size=(3,3), activation='relu', padding='same'), \n",
        "   Conv2D(filters=64, kernel_size=(3,3), activation='relu'), \n",
        "   MaxPool2D(), \n",
        "   Dropout(0.3),\n",
        "\n",
        "   Conv2D(filters=64, kernel_size=(3,3), activation='relu', padding='same'), \n",
        "   Conv2D(filters=64, kernel_size=(3,3), activation='relu'), \n",
        "   MaxPool2D(), \n",
        "   Dropout(0.3),\n",
        "\n",
        "\n",
        "   Flatten(),\n",
        "\n",
        "   Dense(1024, activation='relu'),\n",
        "   Dropout(0.3),\n",
        "\n",
        "   Dense(num_classes, activation='softmax'),\n",
        "   ])\n",
        "\n",
        "\n",
        "train_and_predict(get_cnn_v4(input_shape, num_classes))"
      ],
      "execution_count": 35,
      "outputs": [
        {
          "output_type": "stream",
          "text": [
            "Epoch 1/5\n",
            "272/272 [==============================] - 4s 13ms/step - loss: 2.5884 - accuracy: 0.2986\n",
            "Epoch 2/5\n",
            "272/272 [==============================] - 3s 12ms/step - loss: 0.8642 - accuracy: 0.7361\n",
            "Epoch 3/5\n",
            "272/272 [==============================] - 3s 12ms/step - loss: 0.4177 - accuracy: 0.8700\n",
            "Epoch 4/5\n",
            "272/272 [==============================] - 3s 12ms/step - loss: 0.2698 - accuracy: 0.9161\n",
            "Epoch 5/5\n",
            "272/272 [==============================] - 3s 12ms/step - loss: 0.2003 - accuracy: 0.9391\n"
          ],
          "name": "stdout"
        },
        {
          "output_type": "execute_result",
          "data": {
            "text/plain": [
              "0.9659863945578231"
            ]
          },
          "metadata": {
            "tags": []
          },
          "execution_count": 35
        }
      ]
    },
    {
      "cell_type": "code",
      "metadata": {
        "id": "uiH2MqQf9JHa",
        "colab_type": "code",
        "colab": {
          "base_uri": "https://localhost:8080/",
          "height": 208
        },
        "outputId": "f546adb2-88af-414f-e039-2c26ac2ab5f4"
      },
      "source": [
        "def get_cnn_v5(input_shape, num_classes):\n",
        "  return Sequential([\n",
        "   Conv2D(filters=32, kernel_size=(3,3), activation='relu', input_shape=input_shape),\n",
        "   Conv2D(filters=32, kernel_size=(3,3), activation='relu', padding='same'),\n",
        "   MaxPool2D(), \n",
        "   Dropout(0.3),\n",
        "\n",
        "   Conv2D(filters=64, kernel_size=(3,3), activation='relu', padding='same'), \n",
        "   Conv2D(filters=64, kernel_size=(3,3), activation='relu'), \n",
        "   MaxPool2D(), \n",
        "   Dropout(0.3),\n",
        "\n",
        "   Conv2D(filters=64, kernel_size=(3,3), activation='relu', padding='same'), \n",
        "   Conv2D(filters=64, kernel_size=(3,3), activation='relu'), \n",
        "   MaxPool2D(), \n",
        "   Dropout(0.3),\n",
        "\n",
        "\n",
        "   Flatten(),\n",
        "\n",
        "   Dense(1024, activation='relu'),\n",
        "   Dropout(0.3),\n",
        "   \n",
        "   Dense(1024, activation='relu'),\n",
        "   Dropout(0.3),\n",
        "\n",
        "\n",
        "   Dense(num_classes, activation='softmax'),\n",
        "   ])\n",
        "\n",
        "\n",
        "train_and_predict(get_cnn_v5(input_shape, num_classes))"
      ],
      "execution_count": 37,
      "outputs": [
        {
          "output_type": "stream",
          "text": [
            "Epoch 1/5\n",
            "272/272 [==============================] - 4s 13ms/step - loss: 3.0101 - accuracy: 0.2149\n",
            "Epoch 2/5\n",
            "272/272 [==============================] - 3s 13ms/step - loss: 1.1034 - accuracy: 0.6471\n",
            "Epoch 3/5\n",
            "272/272 [==============================] - 3s 12ms/step - loss: 0.5122 - accuracy: 0.8346\n",
            "Epoch 4/5\n",
            "272/272 [==============================] - 3s 12ms/step - loss: 0.3186 - accuracy: 0.9013\n",
            "Epoch 5/5\n",
            "272/272 [==============================] - 3s 12ms/step - loss: 0.2227 - accuracy: 0.9321\n"
          ],
          "name": "stdout"
        },
        {
          "output_type": "execute_result",
          "data": {
            "text/plain": [
              "0.9734693877551021"
            ]
          },
          "metadata": {
            "tags": []
          },
          "execution_count": 37
        }
      ]
    },
    {
      "cell_type": "code",
      "metadata": {
        "id": "QzqmEp9IBMfE",
        "colab_type": "code",
        "colab": {}
      },
      "source": [
        "model.compile(loss='category_crossentropy', optimizer='Adam', metrics=)\n",
        "model.train(X_train_gray, )"
      ],
      "execution_count": 0,
      "outputs": []
    },
    {
      "cell_type": "code",
      "metadata": {
        "id": "kaq3R4HrF-Zl",
        "colab_type": "code",
        "colab": {
          "base_uri": "https://localhost:8080/",
          "height": 54
        },
        "outputId": "7a9934a2-7109-4c11-9981-78b0e9b5a247"
      },
      "source": [
        "X_train_gray.reshape(-1, 32, 32, 1).shape"
      ],
      "execution_count": 47,
      "outputs": [
        {
          "output_type": "execute_result",
          "data": {
            "text/plain": [
              "(34799, 32, 32, 1)"
            ]
          },
          "metadata": {
            "tags": []
          },
          "execution_count": 47
        },
        {
          "output_type": "stream",
          "text": [
            "ERROR! Session/line number was not unique in database. History logging moved to new session 66\n"
          ],
          "name": "stdout"
        }
      ]
    },
    {
      "cell_type": "code",
      "metadata": {
        "id": "dwwRdrDrHol6",
        "colab_type": "code",
        "colab": {}
      },
      "source": [
        "from tensorflow.keras.layers import Conv1D"
      ],
      "execution_count": 0,
      "outputs": []
    },
    {
      "cell_type": "code",
      "metadata": {
        "id": "RPnwDuqWA5vS",
        "colab_type": "code",
        "colab": {}
      },
      "source": [
        "X_train_gray = color.rgb2grey( X_train ).reshape(-1, 32, 32, 1)\n",
        "X_test_gray = color.rgb2grey( X_test ).reshape(-1, 32, 32, 1)"
      ],
      "execution_count": 0,
      "outputs": []
    },
    {
      "cell_type": "code",
      "metadata": {
        "id": "yl8a43tyEsOK",
        "colab_type": "code",
        "colab": {
          "base_uri": "https://localhost:8080/",
          "height": 224
        },
        "outputId": "0057c06a-f215-4874-b7db-1fc021f2146e"
      },
      "source": [
        "model = get_cnn_v5((32, 32,1), num_classes)\n",
        "model_trained = train_model(model, X_train_gray, y_train, params_fit={})\n",
        "predict(model_trained, X_test_gray, y_test)"
      ],
      "execution_count": 59,
      "outputs": [
        {
          "output_type": "stream",
          "text": [
            "Epoch 1/5\n",
            "272/272 [==============================] - 4s 13ms/step - loss: 2.7345 - accuracy: 0.2399\n",
            "Epoch 2/5\n",
            "272/272 [==============================] - 3s 12ms/step - loss: 0.6058 - accuracy: 0.7984\n",
            "Epoch 3/5\n",
            "272/272 [==============================] - 3s 13ms/step - loss: 0.2506 - accuracy: 0.9191\n",
            "Epoch 4/5\n",
            "272/272 [==============================] - 3s 12ms/step - loss: 0.1687 - accuracy: 0.9456\n",
            "Epoch 5/5\n",
            "272/272 [==============================] - 3s 12ms/step - loss: 0.1247 - accuracy: 0.9602\n"
          ],
          "name": "stdout"
        },
        {
          "output_type": "execute_result",
          "data": {
            "text/plain": [
              "0.9696145124716553"
            ]
          },
          "metadata": {
            "tags": []
          },
          "execution_count": 59
        }
      ]
    },
    {
      "cell_type": "code",
      "metadata": {
        "id": "TQSFjK9BE1oW",
        "colab_type": "code",
        "colab": {}
      },
      "source": [
        ""
      ],
      "execution_count": 0,
      "outputs": []
    }
  ]
}